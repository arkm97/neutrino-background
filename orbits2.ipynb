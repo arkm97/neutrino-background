{
 "cells": [
  {
   "cell_type": "code",
   "execution_count": 2,
   "metadata": {},
   "outputs": [],
   "source": [
    "import pandas as pd\n",
    "import numpy as np\n",
    "import matplotlib.pyplot as plt\n",
    "import importlib\n",
    "import RK4\n",
    "import pickle\n",
    "import time\n",
    "from scipy.interpolate import NearestNDInterpolator"
   ]
  },
  {
   "cell_type": "code",
   "execution_count": 3,
   "metadata": {},
   "outputs": [
    {
     "name": "stderr",
     "output_type": "stream",
     "text": [
      "/usr/local/lib/python3.7/site-packages/ipykernel_launcher.py:4: ParserWarning: Falling back to the 'python' engine because the 'c' engine does not support regex separators (separators > 1 char and different from '\\s+' are interpreted as regex); you can avoid this warning by specifying engine='python'.\n",
      "  after removing the cwd from sys.path.\n"
     ]
    }
   ],
   "source": [
    "with open('potential_grid.plk', 'rb') as f:\n",
    "    potential_grid = pickle.load(f)\n",
    "    \n",
    "m_and_c_output = pd.read_table('mandcoutput.txt', skiprows=1, header=None, delimiter='  ')\n",
    "m_and_c = m_and_c_output[[0, 1, 2, 16]].rename(columns={0: 'z', 1: 'halo_mass', 2: 'c', 16: 'universe_age'})\n",
    "\n",
    "r_values = np.logspace(0, 4, 1001, endpoint=1)\n",
    "z_values = m_and_c.loc[m_and_c.z < 10].z.index\n",
    "\n",
    "coords = np.vstack(map(np.ravel, np.meshgrid(r_values, z_values))).T\n",
    "values = np.ravel(potential_grid.T.values)\n",
    "\n",
    "potential_interpolator = NearestNDInterpolator(coords, values)\n",
    "\n",
    "def get_potential(R, z):\n",
    "    return potential_interpolator.__call__(R, z)"
   ]
  },
  {
   "cell_type": "markdown",
   "metadata": {},
   "source": [
    "### initial samples\n",
    "\n",
    "drawn from suitable physical range"
   ]
  },
  {
   "cell_type": "code",
   "execution_count": 4,
   "metadata": {},
   "outputs": [],
   "source": [
    "r_max = 100\n",
    "n_r = 5\n",
    "r_bins = [1 + r_max * (i/n_r) ** 2 for i in range(n_r + 1)]\n",
    "\n",
    "# p_max = 0.005 * (1 + m_and_c.loc[m_and_c.z < 10].z.max())  * 8e-53 / 1e-67\n",
    "p_max = 1.5e3  # total guess; 30000kpc / 20z --> 1.5e3 --> enough to traverse the entire 30 Mpc range twice?\n",
    "n_p = 10\n",
    "p_bins = [p_max * (j / n_p) ** 2 for j  in range(n_p + 1)]\n",
    "\n",
    "alpha = 2.\n",
    "theta_bins = [np.pi / 2 * (k / 10) ** alpha for k in range(10 + 1)] + [np.pi - np.pi / 2 * ((k - 10) / 10) ** alpha for k in range(10, 20)]"
   ]
  },
  {
   "cell_type": "markdown",
   "metadata": {},
   "source": [
    "### time evolution of samples\n",
    "\n",
    "treat redshift (z) as time"
   ]
  },
  {
   "cell_type": "code",
   "execution_count": 23,
   "metadata": {},
   "outputs": [],
   "source": [
    "results_small_r = pd.DataFrame()\n",
    "for r in r_bins[:50]:\n",
    "    for p in p_bins:\n",
    "        for theta in theta_bins:\n",
    "            L = r * p * np.sin(theta)\n",
    "            dr_dt = lambda t, x: [x[1], 0]  # x = [r, v]\n",
    "            dv_dt = lambda t, x: [0, L ** 2 / np.abs(x[0]) ** 3 - np.sign(x[0]) * get_potential(np.abs(x[0]), t)]  # x = [r, v]\n",
    "            integrator = RK4.RK4([dr_dt, dv_dt])\n",
    "            orbit = integrator.integrate([r, p], t0=10, tf=0.4, steps=1000)\n",
    "            results_small_r = results_small_r.append({'r': r, 'p': p, 'theta': theta, 'final_position': orbit[1][0][-1]}, ignore_index=True)\n",
    "\n",
    "\n",
    "# results.to_csv('results.csv')\n",
    "# results_small_r.to_csv('results_small_r.csv')"
   ]
  },
  {
   "cell_type": "markdown",
   "metadata": {},
   "source": [
    "### final density profile"
   ]
  },
  {
   "cell_type": "code",
   "execution_count": 9,
   "metadata": {},
   "outputs": [],
   "source": [
    "from scipy.integrate import quad\n",
    "\n",
    "def r_contribution(r_value):\n",
    "    \n",
    "    i = r_bins.index(r_value)\n",
    "    try:\n",
    "        return (r_bins[i + 1] ** 3 - r_bins[i] ** 3) / 3\n",
    "    except IndexError:\n",
    "        return np.nan\n",
    "\n",
    "def p_contribution(p_value):\n",
    "    \n",
    "    j = p_bins.index(p_value)\n",
    "    \n",
    "    try:\n",
    "        p_j = p_bins[j] * 1e-67 / 8e-53\n",
    "        p_j_plus_1 = p_bins[j + 1] * 1e-67 / 8e-53\n",
    "    except IndexError:\n",
    "        return np.nan\n",
    "    \n",
    "    k_boltzmann = 8.62e-5 # eV * K^-1\n",
    "    T_v = 1.9 # K\n",
    "    \n",
    "    integrand = lambda p: p ** 2 / (np.exp(p / (k_boltzmann * T_v)) + 1)\n",
    "    \n",
    "    return quad(integrand, p_j, p_j_plus_1)[0]\n",
    "\n",
    "def theta_contribution(theta_value):\n",
    "    \n",
    "    k = theta_bins.index(theta_value)\n",
    "    \n",
    "    try:\n",
    "        return np.abs(np.cos(theta_bins[k + 1]) - np.cos(theta_bins[k]))\n",
    "    except IndexError:\n",
    "        return np.nan"
   ]
  },
  {
   "cell_type": "code",
   "execution_count": 615,
   "metadata": {
    "collapsed": true
   },
   "outputs": [
    {
     "ename": "NameError",
     "evalue": "name 'results' is not defined",
     "output_type": "error",
     "traceback": [
      "\u001b[0;31m---------------------------------------------------------------------------\u001b[0m",
      "\u001b[0;31mNameError\u001b[0m                                 Traceback (most recent call last)",
      "\u001b[0;32m<ipython-input-615-6d734b276af0>\u001b[0m in \u001b[0;36m<module>\u001b[0;34m\u001b[0m\n\u001b[0;32m----> 1\u001b[0;31m \u001b[0mall_results\u001b[0m \u001b[0;34m=\u001b[0m \u001b[0mresults\u001b[0m\u001b[0;34m.\u001b[0m\u001b[0mappend\u001b[0m\u001b[0;34m(\u001b[0m\u001b[0mresults_small_r\u001b[0m\u001b[0;34m,\u001b[0m \u001b[0mignore_index\u001b[0m\u001b[0;34m=\u001b[0m\u001b[0;32mTrue\u001b[0m\u001b[0;34m)\u001b[0m\u001b[0;34m\u001b[0m\u001b[0m\n\u001b[0m",
      "\u001b[0;31mNameError\u001b[0m: name 'results' is not defined"
     ]
    }
   ],
   "source": [
    "all_results = results.append(results_small_r, ignore_index=True)\n",
    "\n",
    "all_results['r_contribution'] = all_results.apply(lambda x: r_contribution(x.r), axis=1)\n",
    "all_results['p_contribution'] = all_results.apply(lambda x: p_contribution(x.p), axis=1)\n",
    "all_results['theta_contribution'] = all_results.apply(lambda x: theta_contribution(x.theta), axis=1)\n",
    "\n",
    "all_results['weight'] = all_results['r_contribution'] * all_results['p_contribution'] * all_results['theta_contribution']\n",
    "\n",
    "all_results['r_final_bins'] = pd.cut(all_results.final_position, np.logspace(1, 4))\n",
    "\n",
    "total_mass = all_results.groupby('r_final_bins')[['weight']].sum().cumsum()\n",
    "total_mass = total_mass.rename(columns={'weight': 'total_mass'})\n",
    "\n",
    "all_with_mass = pd.merge(all_results, total_mass, how='left', on='r_final_bins')\n",
    "\n",
    "all_with_mass['density'] = all_with_mass['total_mass'] / (all_with_mass['r'] ** 3)"
   ]
  },
  {
   "cell_type": "code",
   "execution_count": 163,
   "metadata": {},
   "outputs": [
    {
     "data": {
      "image/png": "[encoded data removed]",
      "text/plain": [
       "<Figure size 432x288 with 1 Axes>"
      ]
     },
     "metadata": {
      "needs_background": "light"
     },
     "output_type": "display_data"
    }
   ],
   "source": [
    "(all_with_mass.groupby('r_final_bins')[['density']].min().clip(upper=3e-15) / 1e-17).plot(loglog=True, marker='.')\n",
    "plt.show()"
   ]
  },
  {
   "cell_type": "markdown",
   "metadata": {},
   "source": [
    "#### -->not resolving well over whole range. need more samples, but efficiency of integrator is limiting granularity"
   ]
  },
  {
   "cell_type": "markdown",
   "metadata": {},
   "source": [
    "### same time evolution process but using adaptive integrator"
   ]
  },
  {
   "cell_type": "code",
   "execution_count": 683,
   "metadata": {},
   "outputs": [
    {
     "data": {
      "text/plain": [
       "<module 'RK4' from '/Users/andrewmadigan/Documents/summer research 17/RK4.py'>"
      ]
     },
     "execution_count": 683,
     "metadata": {},
     "output_type": "execute_result"
    }
   ],
   "source": [
    "importlib.reload(RK4)"
   ]
  },
  {
   "cell_type": "code",
   "execution_count": 1,
   "metadata": {},
   "outputs": [],
   "source": [
    "results_small_r_3 = pd.DataFrame()\n",
    "t0 = time.time()\n",
    "for r in r_bins:\n",
    "    print(f'r={r}, time={time.time() - t0}')\n",
    "    for p in p_bins:\n",
    "        for theta in theta_bins:\n",
    "            L = r * p * np.sin(theta)\n",
    "            dr_dt = lambda t, x: [x[1], 0]  # x = [r, v]\n",
    "            dv_dt = lambda t, x: [0, L ** 2 / x[0] ** 3 - np.sign(x[0]) * get_potential(np.abs(x[0]), t)]  # x = [r, v]\n",
    "            integrator = RK4.RK4([dr_dt, dv_dt])\n",
    "            # if t0 < tf, min_step_size must be \n",
    "            orbit = integrator.integrate_adaptive([r, p * np.cos(theta)], t0=10., tf=0.4, tolerance=1e-7, min_step_size=-0.000001)\n",
    "            results_small_r_3 = results_small_r_3.append({'r': r, 'p': p, 'theta': theta, 'final_position': orbit[1][0][-1]}, ignore_index=True)\n",
    "print('total time:', time.time() - t0)"
   ]
  },
  {
   "cell_type": "code",
   "execution_count": 38,
   "metadata": {},
   "outputs": [],
   "source": [
    "results_small_r_3.to_csv('small_r_100.csv')\n",
    "# results_small_r_3 = pd.read_csv('small_r_100.csv')\n",
    "# results_small_r_3 = results_small_r_3.astype({'r':'int', 'p': 'int'})\n",
    "\n",
    "results_small_r_2.to_csv('r_3e4.csv')\n",
    "# results_small_r_2 = pd.read_csv('r_3e4.csv')\n",
    "# results_small_r_2 = results_small_r_2.astype({'r':'int', 'p': 'int'})\n",
    "\n",
    "# r_bins = list(results_small_r_2.r.unique())\n",
    "# p_bins = list(results_small_r_2.p.unique())\n",
    "# theta_bins = list(results_small_r_2.theta.unique())"
   ]
  },
  {
   "cell_type": "code",
   "execution_count": 7,
   "metadata": {},
   "outputs": [],
   "source": [
    "pd.options.mode.chained_assignment = None"
   ]
  },
  {
   "cell_type": "code",
   "execution_count": 79,
   "metadata": {},
   "outputs": [],
   "source": [
    "all_results = results_small_r_2.loc[np.abs(results_small_r_2.final_position) < 3e4]\n",
    "all_results.r = np.abs(all_results.r)\n",
    "\n",
    "all_results['r_contribution'] = all_results.apply(lambda x: r_contribution(x.r), axis=1)\n",
    "all_results['p_contribution'] = all_results.apply(lambda x: p_contribution(x.p), axis=1)\n",
    "all_results['theta_contribution'] = all_results.apply(lambda x: theta_contribution(x.theta), axis=1)\n",
    "\n",
    "all_results['weight'] = all_results['r_contribution'] * all_results['p_contribution'] * all_results['theta_contribution']\n",
    "\n",
    "all_results['r_final_bins'] = pd.cut(all_results.final_position, np.logspace(1, 5, 100))\n",
    "\n",
    "total_mass = all_results.groupby('r_final_bins')[['weight']].sum().cumsum()\n",
    "total_mass = total_mass.rename(columns={'weight': 'total_mass'})\n",
    "\n",
    "all_with_mass = pd.merge(all_results, total_mass, how='left', on='r_final_bins')\n",
    "\n",
    "all_with_mass['density'] = all_with_mass['total_mass'] / (np.abs(all_with_mass['final_position']) ** 3)"
   ]
  },
  {
   "cell_type": "code",
   "execution_count": 80,
   "metadata": {},
   "outputs": [
    {
     "data": {
      "image/png": "[encoded data removed]",
      "text/plain": [
       "<Figure size 720x504 with 1 Axes>"
      ]
     },
     "metadata": {
      "needs_background": "light"
     },
     "output_type": "display_data"
    }
   ],
   "source": [
    "plt.loglog(all_with_mass.groupby('r_final_bins')[['final_position']].min(), all_with_mass.groupby('r_final_bins')[['density']].min() / 1e-37)\n",
    "plt.ylim(3e0, 3e2)\n",
    "plt.xlabel('r [kpc]', fontsize=18)\n",
    "plt.ylabel('$\\mathregular{ρ_ν} / $ $\\mathregular{\\overline{ρ_ν}}$', fontsize=18)\n",
    "plt.title('local CMB overdensity')\n",
    "plt.show()"
   ]
  },
  {
   "cell_type": "markdown",
   "metadata": {},
   "source": [
    "#### better resolution over range.  need to parallelize and run over many more samples to resolve r < $10^2$"
   ]
  },
  {
   "cell_type": "code",
   "execution_count": null,
   "metadata": {},
   "outputs": [],
   "source": []
  }
 ],
 "metadata": {
  "kernelspec": {
   "display_name": "Python 3",
   "language": "python",
   "name": "python3"
  },
  "language_info": {
   "codemirror_mode": {
    "name": "ipython",
    "version": 3
   },
   "file_extension": ".py",
   "mimetype": "text/x-python",
   "name": "python",
   "nbconvert_exporter": "python",
   "pygments_lexer": "ipython3",
   "version": "3.7.0"
  }
 },
 "nbformat": 4,
 "nbformat_minor": 2
}
